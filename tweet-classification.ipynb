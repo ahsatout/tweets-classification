{
 "cells": [
  {
   "cell_type": "code",
   "execution_count": 39,
   "id": "ff04b82b",
   "metadata": {},
   "outputs": [],
   "source": [
    "# Import necessary libraries\n",
    "import pandas as pd                 #manipulation and analysis\n",
    "import numpy as np                  #numerical computing\n",
    "import matplotlib.pyplot as plt     # For creating visualizations\n",
    "import seaborn as sns               \n",
    "from sklearn.feature_extraction.text import TfidfVectorizer  #text vectorization\n",
    "from sklearn.model_selection import train_test_split    #splitting data into train and test sets\n",
    "from sklearn.metrics import classification_report, ConfusionMatrixDisplay, confusion_matrix, accuracy_score  #model evaluation\n",
    "from sklearn.metrics import plot_confusion_matrix\n",
    "from sklearn.model_selection import GridSearchCV        #hyperparameter tuning\n",
    "from sklearn.naive_bayes import MultinomialNB           #Naive Bayes classifier\n",
    "from sklearn.linear_model import LogisticRegression     #Logistic Regression classifier\n",
    "from sklearn.ensemble import RandomForestClassifier    #Random Forest classifier\n",
    "from sklearn.ensemble import VotingClassifier          #Voting Classifier\n",
    "import re # for regular expression\n",
    "import string # for string operations\n",
    "import nltk\n",
    "from nltk.corpus import stopwords\n",
    "STOPWORDS = set(stopwords.words('english')) # Creating a set of English stopwords for text filtering"
   ]
  },
  {
   "cell_type": "markdown",
   "id": "2da64c8b",
   "metadata": {},
   "source": [
    "##  Loading the data"
   ]
  },
  {
   "cell_type": "code",
   "execution_count": 3,
   "id": "dd73a8a8",
   "metadata": {},
   "outputs": [],
   "source": [
    "tweets = pd.read_csv('train.csv')\n",
    "train = tweets.copy()\n",
    "test = pd.read_csv('test.csv')"
   ]
  },
  {
   "cell_type": "code",
   "execution_count": 4,
   "id": "69eb9bd7",
   "metadata": {},
   "outputs": [
    {
     "data": {
      "text/html": [
       "<div>\n",
       "<style scoped>\n",
       "    .dataframe tbody tr th:only-of-type {\n",
       "        vertical-align: middle;\n",
       "    }\n",
       "\n",
       "    .dataframe tbody tr th {\n",
       "        vertical-align: top;\n",
       "    }\n",
       "\n",
       "    .dataframe thead th {\n",
       "        text-align: right;\n",
       "    }\n",
       "</style>\n",
       "<table border=\"1\" class=\"dataframe\">\n",
       "  <thead>\n",
       "    <tr style=\"text-align: right;\">\n",
       "      <th></th>\n",
       "      <th>TweetId</th>\n",
       "      <th>Label</th>\n",
       "      <th>TweetText</th>\n",
       "    </tr>\n",
       "  </thead>\n",
       "  <tbody>\n",
       "    <tr>\n",
       "      <th>0</th>\n",
       "      <td>304271250237304833</td>\n",
       "      <td>Politics</td>\n",
       "      <td>'#SecKerry: The value of the @StateDept and @U...</td>\n",
       "    </tr>\n",
       "    <tr>\n",
       "      <th>1</th>\n",
       "      <td>304834304222064640</td>\n",
       "      <td>Politics</td>\n",
       "      <td>'@rraina1481 I fear so'</td>\n",
       "    </tr>\n",
       "    <tr>\n",
       "      <th>2</th>\n",
       "      <td>303568995880144898</td>\n",
       "      <td>Sports</td>\n",
       "      <td>'Watch video highlights of the #wwc13 final be...</td>\n",
       "    </tr>\n",
       "    <tr>\n",
       "      <th>3</th>\n",
       "      <td>304366580664528896</td>\n",
       "      <td>Sports</td>\n",
       "      <td>'RT @chelscanlan: At Nitro Circus at #AlbertPa...</td>\n",
       "    </tr>\n",
       "    <tr>\n",
       "      <th>4</th>\n",
       "      <td>296770931098009601</td>\n",
       "      <td>Sports</td>\n",
       "      <td>'@cricketfox Always a good thing. Thanks for t...</td>\n",
       "    </tr>\n",
       "  </tbody>\n",
       "</table>\n",
       "</div>"
      ],
      "text/plain": [
       "              TweetId     Label  \\\n",
       "0  304271250237304833  Politics   \n",
       "1  304834304222064640  Politics   \n",
       "2  303568995880144898    Sports   \n",
       "3  304366580664528896    Sports   \n",
       "4  296770931098009601    Sports   \n",
       "\n",
       "                                           TweetText  \n",
       "0  '#SecKerry: The value of the @StateDept and @U...  \n",
       "1                            '@rraina1481 I fear so'  \n",
       "2  'Watch video highlights of the #wwc13 final be...  \n",
       "3  'RT @chelscanlan: At Nitro Circus at #AlbertPa...  \n",
       "4  '@cricketfox Always a good thing. Thanks for t...  "
      ]
     },
     "execution_count": 4,
     "metadata": {},
     "output_type": "execute_result"
    }
   ],
   "source": [
    "train.head()"
   ]
  },
  {
   "cell_type": "code",
   "execution_count": 5,
   "id": "706182bf",
   "metadata": {},
   "outputs": [
    {
     "data": {
      "text/plain": [
       "(6525, 3)"
      ]
     },
     "execution_count": 5,
     "metadata": {},
     "output_type": "execute_result"
    }
   ],
   "source": [
    "train.shape"
   ]
  },
  {
   "cell_type": "code",
   "execution_count": 6,
   "id": "27a52e88",
   "metadata": {
    "scrolled": true
   },
   "outputs": [
    {
     "name": "stdout",
     "output_type": "stream",
     "text": [
      "Sports      3325\n",
      "Politics    3200\n",
      "Name: Label, dtype: int64\n"
     ]
    },
    {
     "data": {
      "text/plain": [
       "<AxesSubplot:xlabel='Label', ylabel='count'>"
      ]
     },
     "execution_count": 6,
     "metadata": {},
     "output_type": "execute_result"
    },
    {
     "data": {
      "image/png": "[encoded data removed]",
      "text/plain": [
       "<Figure size 640x480 with 1 Axes>"
      ]
     },
     "metadata": {},
     "output_type": "display_data"
    }
   ],
   "source": [
    "print(train['Label'].value_counts())\n",
    "sns.countplot(data=train, x=\"Label\")"
   ]
  },
  {
   "cell_type": "markdown",
   "id": "6a6c50fd",
   "metadata": {},
   "source": [
    "The dataset is relatively balanced"
   ]
  },
  {
   "cell_type": "code",
   "execution_count": 7,
   "id": "cf8f9be1",
   "metadata": {},
   "outputs": [
    {
     "name": "stdout",
     "output_type": "stream",
     "text": [
      "TweetId      0\n",
      "Label        0\n",
      "TweetText    0\n",
      "dtype: int64\n"
     ]
    }
   ],
   "source": [
    "print(train.isna().sum())"
   ]
  },
  {
   "cell_type": "markdown",
   "id": "2b9fb23d",
   "metadata": {},
   "source": [
    "Great, No missing values"
   ]
  },
  {
   "cell_type": "markdown",
   "id": "b5114fe4",
   "metadata": {},
   "source": [
    "## **Meta Features**\n",
    "Understanding the distributions of meta-features in our dataset can be informative for selecting and tuning machine learning models.\n",
    ". The meta features used for the analysis are;\n",
    "* `word_count` number of words in text\n",
    "* `unique_word_count` number of unique words in text\n",
    "* `stop_word_count` number of stop words in text\n",
    "* `url_count` number of urls in text\n",
    "* `mean_word_length` average character count in words\n",
    "* `char_count` number of characters in text\n",
    "* `punctuation_count` number of punctuations in text\n",
    "* `hashtag_count` number of hashtags (**#**) in text\n",
    "* `mention_count` number of mentions (**@**) in text"
   ]
  },
  {
   "cell_type": "code",
   "execution_count": 8,
   "id": "260c9453",
   "metadata": {},
   "outputs": [],
   "source": [
    "def extract_text_features(df):\n",
    "    df['word_count'] = df['TweetText'].apply(lambda x: len(str(x).split()))\n",
    "    df['unique_word_count'] = df['TweetText'].apply(lambda x: len(set(str(x).split())))\n",
    "    df['stop_word_count'] = df['TweetText'].apply(lambda x: len([w for w in str(x).lower().split() if w in STOPWORDS]))\n",
    "    df['url_count'] = df['TweetText'].apply(lambda x: len([w for w in str(x).lower().split() if 'http' in w or 'https' in w]))\n",
    "    df['mean_word_length'] = df['TweetText'].apply(lambda x: np.mean([len(w) for w in str(x).split()]))\n",
    "    df['char_count'] = df['TweetText'].apply(lambda x: len(str(x)))\n",
    "    df['punctuation_count'] = df['TweetText'].apply(lambda x: len([c for c in str(x) if c in string.punctuation]))\n",
    "    df['hashtag_count'] = df['TweetText'].apply(lambda x: len([c for c in str(x) if c == '#']))\n",
    "    df['mention_count'] = df['TweetText'].apply(lambda x: len([c for c in str(x) if c == '@']))\n",
    "    return df\n",
    "\n",
    "# Applying the function to the training and testing dataframes\n",
    "train = extract_text_features(train)\n",
    "test = extract_text_features(test)"
   ]
  },
  {
   "cell_type": "code",
   "execution_count": 9,
   "id": "ee992cbc",
   "metadata": {},
   "outputs": [
    {
     "data": {
      "text/html": [
       "<div>\n",
       "<style scoped>\n",
       "    .dataframe tbody tr th:only-of-type {\n",
       "        vertical-align: middle;\n",
       "    }\n",
       "\n",
       "    .dataframe tbody tr th {\n",
       "        vertical-align: top;\n",
       "    }\n",
       "\n",
       "    .dataframe thead th {\n",
       "        text-align: right;\n",
       "    }\n",
       "</style>\n",
       "<table border=\"1\" class=\"dataframe\">\n",
       "  <thead>\n",
       "    <tr style=\"text-align: right;\">\n",
       "      <th></th>\n",
       "      <th>TweetId</th>\n",
       "      <th>Label</th>\n",
       "      <th>TweetText</th>\n",
       "      <th>word_count</th>\n",
       "      <th>unique_word_count</th>\n",
       "      <th>stop_word_count</th>\n",
       "      <th>url_count</th>\n",
       "      <th>mean_word_length</th>\n",
       "      <th>char_count</th>\n",
       "      <th>punctuation_count</th>\n",
       "      <th>hashtag_count</th>\n",
       "      <th>mention_count</th>\n",
       "    </tr>\n",
       "  </thead>\n",
       "  <tbody>\n",
       "    <tr>\n",
       "      <th>0</th>\n",
       "      <td>304271250237304833</td>\n",
       "      <td>Politics</td>\n",
       "      <td>'#SecKerry: The value of the @StateDept and @U...</td>\n",
       "      <td>21</td>\n",
       "      <td>19</td>\n",
       "      <td>11</td>\n",
       "      <td>0</td>\n",
       "      <td>5.000000</td>\n",
       "      <td>125</td>\n",
       "      <td>9</td>\n",
       "      <td>1</td>\n",
       "      <td>2</td>\n",
       "    </tr>\n",
       "    <tr>\n",
       "      <th>1</th>\n",
       "      <td>304834304222064640</td>\n",
       "      <td>Politics</td>\n",
       "      <td>'@rraina1481 I fear so'</td>\n",
       "      <td>4</td>\n",
       "      <td>4</td>\n",
       "      <td>1</td>\n",
       "      <td>0</td>\n",
       "      <td>5.000000</td>\n",
       "      <td>23</td>\n",
       "      <td>3</td>\n",
       "      <td>0</td>\n",
       "      <td>1</td>\n",
       "    </tr>\n",
       "    <tr>\n",
       "      <th>2</th>\n",
       "      <td>303568995880144898</td>\n",
       "      <td>Sports</td>\n",
       "      <td>'Watch video highlights of the #wwc13 final be...</td>\n",
       "      <td>14</td>\n",
       "      <td>14</td>\n",
       "      <td>5</td>\n",
       "      <td>1</td>\n",
       "      <td>6.357143</td>\n",
       "      <td>102</td>\n",
       "      <td>8</td>\n",
       "      <td>1</td>\n",
       "      <td>0</td>\n",
       "    </tr>\n",
       "    <tr>\n",
       "      <th>3</th>\n",
       "      <td>304366580664528896</td>\n",
       "      <td>Sports</td>\n",
       "      <td>'RT @chelscanlan: At Nitro Circus at #AlbertPa...</td>\n",
       "      <td>12</td>\n",
       "      <td>12</td>\n",
       "      <td>2</td>\n",
       "      <td>0</td>\n",
       "      <td>9.166667</td>\n",
       "      <td>121</td>\n",
       "      <td>10</td>\n",
       "      <td>3</td>\n",
       "      <td>3</td>\n",
       "    </tr>\n",
       "    <tr>\n",
       "      <th>4</th>\n",
       "      <td>296770931098009601</td>\n",
       "      <td>Sports</td>\n",
       "      <td>'@cricketfox Always a good thing. Thanks for t...</td>\n",
       "      <td>10</td>\n",
       "      <td>10</td>\n",
       "      <td>3</td>\n",
       "      <td>0</td>\n",
       "      <td>5.300000</td>\n",
       "      <td>62</td>\n",
       "      <td>7</td>\n",
       "      <td>0</td>\n",
       "      <td>1</td>\n",
       "    </tr>\n",
       "  </tbody>\n",
       "</table>\n",
       "</div>"
      ],
      "text/plain": [
       "              TweetId     Label  \\\n",
       "0  304271250237304833  Politics   \n",
       "1  304834304222064640  Politics   \n",
       "2  303568995880144898    Sports   \n",
       "3  304366580664528896    Sports   \n",
       "4  296770931098009601    Sports   \n",
       "\n",
       "                                           TweetText  word_count  \\\n",
       "0  '#SecKerry: The value of the @StateDept and @U...          21   \n",
       "1                            '@rraina1481 I fear so'           4   \n",
       "2  'Watch video highlights of the #wwc13 final be...          14   \n",
       "3  'RT @chelscanlan: At Nitro Circus at #AlbertPa...          12   \n",
       "4  '@cricketfox Always a good thing. Thanks for t...          10   \n",
       "\n",
       "   unique_word_count  stop_word_count  url_count  mean_word_length  \\\n",
       "0                 19               11          0          5.000000   \n",
       "1                  4                1          0          5.000000   \n",
       "2                 14                5          1          6.357143   \n",
       "3                 12                2          0          9.166667   \n",
       "4                 10                3          0          5.300000   \n",
       "\n",
       "   char_count  punctuation_count  hashtag_count  mention_count  \n",
       "0         125                  9              1              2  \n",
       "1          23                  3              0              1  \n",
       "2         102                  8              1              0  \n",
       "3         121                 10              3              3  \n",
       "4          62                  7              0              1  "
      ]
     },
     "execution_count": 9,
     "metadata": {},
     "output_type": "execute_result"
    }
   ],
   "source": [
    "train.head(5)"
   ]
  },
  {
   "cell_type": "markdown",
   "id": "e1deec0b",
   "metadata": {},
   "source": [
    "## **Data Cleaning**"
   ]
  },
  {
   "cell_type": "code",
   "execution_count": 10,
   "id": "043449b6",
   "metadata": {},
   "outputs": [],
   "source": [
    "def clean_text(text):\n",
    "    # Convert text to lowercase\n",
    "    text = str(text).lower()\n",
    "    # Remove digits\n",
    "    text = re.sub(r'\\d+', '', text)\n",
    "    # Remove text within square brackets\n",
    "    text = re.sub(r'\\[.*?\\]', '', text)\n",
    "    # Remove URLs\n",
    "    text = re.sub(r'https?://\\S+|www\\.\\S+', '', text)\n",
    "    # Remove emojis and other non-ASCII characters\n",
    "    text = re.sub(\"[\" \n",
    "                   u\"\\U0001F600-\\U0001F64F\"  \n",
    "                   u\"\\U0001F300-\\U0001F5FF\"  \n",
    "                   u\"\\U0001F680-\\U0001F6FF\"  \n",
    "                   u\"\\U0001F1E0-\\U0001F1FF\"  \n",
    "                   u\"\\U00002702-\\U000027B0\"  \n",
    "                   u\"\\U000024C2-\\U0001F251\"  \n",
    "                   \"]+\", \"\", text)\n",
    "    \n",
    "    # Remove punctuation\n",
    "    text = re.sub('[%s]' % re.escape(string.punctuation), '', text)\n",
    "    # Tokenize text\n",
    "    words = text.split()\n",
    "    # Remove stop words\n",
    "    words = [word for word in words if word not in STOPWORDS]\n",
    "    # Join words back into a single string\n",
    "    text = ' '.join(words)\n",
    "    # Remove extra whitespaces\n",
    "    text = re.sub(r'\\s+', ' ', text).strip()\n",
    "    \n",
    "    return text\n",
    "\n",
    "#CLeaning training and testing dataframes\n",
    "tweets['TextClean'] = tweets['TweetText'].apply(clean_text)\n",
    "test['TextClean'] = test['TweetText'].apply(clean_text)"
   ]
  },
  {
   "cell_type": "code",
   "execution_count": 11,
   "id": "da87a7b7",
   "metadata": {},
   "outputs": [
    {
     "data": {
      "text/plain": [
       "0    seckerry value statedept usaid measured dollar...\n",
       "1                                          rraina fear\n",
       "2    watch video highlights wwc final australia wes...\n",
       "3    rt chelscanlan nitro circus albertpark theymak...\n",
       "4         cricketfox always good thing thanks feedback\n",
       "Name: TextClean, dtype: object"
      ]
     },
     "execution_count": 11,
     "metadata": {},
     "output_type": "execute_result"
    }
   ],
   "source": [
    "tweets['TextClean'].head()"
   ]
  },
  {
   "cell_type": "markdown",
   "id": "5c090418",
   "metadata": {},
   "source": [
    "## **Features Extraction**"
   ]
  },
  {
   "cell_type": "code",
   "execution_count": 12,
   "id": "5b8c7ae2",
   "metadata": {},
   "outputs": [],
   "source": [
    "# Create the feature matrix using TfidfVectorizer and the target vector\n",
    "vectorizer = TfidfVectorizer()\n",
    "vectorizer.fit(tweets['TweetText'])\n",
    "X = vectorizer.transform(tweets['TweetText']).toarray()\n",
    "y = tweets['Label']"
   ]
  },
  {
   "cell_type": "markdown",
   "id": "d8a813d7",
   "metadata": {},
   "source": [
    "## Model Training"
   ]
  },
  {
   "cell_type": "markdown",
   "id": "e9559330",
   "metadata": {},
   "source": [
    "### 1. MultinomialNB"
   ]
  },
  {
   "cell_type": "code",
   "execution_count": 13,
   "id": "e1382536",
   "metadata": {},
   "outputs": [],
   "source": [
    "# Splitting our data into training and testing sets\n",
    "X_train, X_test, y_train, y_test = train_test_split(X, y, test_size=0.2, random_state=42)"
   ]
  },
  {
   "cell_type": "code",
   "execution_count": 14,
   "id": "378949b3",
   "metadata": {},
   "outputs": [
    {
     "data": {
      "text/plain": [
       "MultinomialNB(alpha=2)"
      ]
     },
     "execution_count": 14,
     "metadata": {},
     "output_type": "execute_result"
    }
   ],
   "source": [
    "# let's have an insight about our algorithm's behavior with an initial hyperparameter value\n",
    "model = MultinomialNB(alpha=2)\n",
    "model.fit(X_train, y_train)"
   ]
  },
  {
   "cell_type": "code",
   "execution_count": 15,
   "id": "24b025b3",
   "metadata": {
    "scrolled": true
   },
   "outputs": [
    {
     "name": "stdout",
     "output_type": "stream",
     "text": [
      "Train Accuracy: 0.98\n",
      "Test Accuracy: 0.95\n"
     ]
    }
   ],
   "source": [
    "y_predict_train = model.predict(X_train)\n",
    "y_predict_test = model.predict(X_test)\n",
    "\n",
    "train_accuracy = accuracy_score(y_train, y_predict_train)\n",
    "test_accuracy = accuracy_score(y_test, y_predict_test)\n",
    "\n",
    "\n",
    "print(f\"Train Accuracy: {train_accuracy:.2f}\")\n",
    "print(f\"Test Accuracy: {test_accuracy:.2f}\")"
   ]
  },
  {
   "cell_type": "markdown",
   "id": "b99e8ac6",
   "metadata": {},
   "source": [
    "Time for finding the best hyperparameters for our model"
   ]
  },
  {
   "cell_type": "code",
   "execution_count": 18,
   "id": "8a7480d2",
   "metadata": {},
   "outputs": [],
   "source": [
    "# Define a grid of hyperparameters to search through\n",
    "param_grid = {\n",
    "    'alpha': [0.1, 0.5, 1, 2, 5]\n",
    "}\n",
    "\n",
    "grid_search = GridSearchCV(MultinomialNB(), param_grid, cv=5)\n",
    "\n",
    "# Perform grid search to find the best hyperparameters\n",
    "grid_search.fit(X_train, y_train)\n",
    "\n",
    "# Get the best hyperparameters\n",
    "best_params = grid_search.best_params_\n",
    "# Save the best estimator\n",
    "model = grid_search.best_estimator_"
   ]
  },
  {
   "cell_type": "code",
   "execution_count": 44,
   "id": "69076999",
   "metadata": {
    "scrolled": false
   },
   "outputs": [
    {
     "name": "stdout",
     "output_type": "stream",
     "text": [
      "Best hyperparameter value is :  0.1\n"
     ]
    }
   ],
   "source": [
    "print(\"Best hyperparameter value is : \",best_params['alpha'])"
   ]
  },
  {
   "cell_type": "code",
   "execution_count": 19,
   "id": "a0da04e9",
   "metadata": {},
   "outputs": [
    {
     "name": "stdout",
     "output_type": "stream",
     "text": [
      "Train Accuracy: 1.00\n",
      "Test Accuracy: 0.97\n"
     ]
    }
   ],
   "source": [
    "y_predict_train = model.predict(X_train)\n",
    "y_predict_test = model.predict(X_test)\n",
    "\n",
    "train_accuracy = accuracy_score(y_train, y_predict_train)\n",
    "test_accuracy = accuracy_score(y_test, y_predict_test)\n",
    "\n",
    "\n",
    "print(f\"Train Accuracy: {train_accuracy:.2f}\")\n",
    "print(f\"Test Accuracy: {test_accuracy:.2f}\")"
   ]
  },
  {
   "cell_type": "code",
   "execution_count": 21,
   "id": "37bd68c6",
   "metadata": {},
   "outputs": [
    {
     "name": "stdout",
     "output_type": "stream",
     "text": [
      "Classification Report for Test Set:\n",
      "              precision    recall  f1-score   support\n",
      "\n",
      "    Politics       0.97      0.97      0.97       638\n",
      "      Sports       0.97      0.97      0.97       667\n",
      "\n",
      "    accuracy                           0.97      1305\n",
      "   macro avg       0.97      0.97      0.97      1305\n",
      "weighted avg       0.97      0.97      0.97      1305\n",
      "\n",
      "Confusion Matrix for Test Set:\n",
      "[[618  20]\n",
      " [ 17 650]]\n"
     ]
    }
   ],
   "source": [
    "# Classification Report\n",
    "print(\"Classification Report for Test Set:\")\n",
    "print(classification_report(y_test, y_predict_test))\n",
    "\n",
    "# Confusion Matrix\n",
    "print(\"Confusion Matrix for Test Set:\")\n",
    "print(confusion_matrix(y_test, y_predict_test))"
   ]
  },
  {
   "cell_type": "code",
   "execution_count": 27,
   "id": "fcf07354",
   "metadata": {},
   "outputs": [
    {
     "data": {
      "text/plain": [
       "<Figure size 800x600 with 0 Axes>"
      ]
     },
     "metadata": {},
     "output_type": "display_data"
    },
    {
     "data": {
      "image/png": "[encoded data removed]",
      "text/plain": [
       "<Figure size 640x480 with 2 Axes>"
      ]
     },
     "metadata": {},
     "output_type": "display_data"
    }
   ],
   "source": [
    "# Plot confusion matrix for test set\n",
    "plt.figure(figsize=(8, 6))\n",
    "plot_confusion_matrix(model, X_test, y_test, cmap=plt.cm.Blues)\n",
    "plt.title('Confusion Matrix - Test Set')\n",
    "plt.show()"
   ]
  },
  {
   "cell_type": "code",
   "execution_count": null,
   "id": "7fbd58a9",
   "metadata": {},
   "outputs": [],
   "source": []
  },
  {
   "cell_type": "code",
   "execution_count": 28,
   "id": "4a93f701",
   "metadata": {},
   "outputs": [
    {
     "name": "stdout",
     "output_type": "stream",
     "text": [
      "Best hyperparameters: {'C': 100, 'penalty': 'l2'}\n",
      "Best accuracy score: 0.9480842911877394\n"
     ]
    }
   ],
   "source": [
    "# Same process , let's define hyperparameters to tune\n",
    "param_grid = {\n",
    "    'C': [0.001, 0.01, 0.1, 1, 10, 100],  # Regularization parameter\n",
    "    'penalty': ['l1', 'l2']  # Penalty term\n",
    "}\n",
    "\n",
    "# Create a Logistic Regression classifier\n",
    "logistic_regression = LogisticRegression()\n",
    "\n",
    "# Grid search with cross-validation\n",
    "grid_search = GridSearchCV(logistic_regression, param_grid, cv=5, scoring='accuracy')\n",
    "\n",
    "# Fit the grid search to the data\n",
    "grid_search.fit(X_train, y_train)\n",
    "\n",
    "# Best hyperparameters found\n",
    "print(\"Best hyperparameters:\", grid_search.best_params_)\n",
    "\n",
    "# Best accuracy score\n",
    "print(\"Best accuracy score:\", grid_search.best_score_)\n",
    "\n",
    "# Get the best model\n",
    "model2 = grid_search.best_estimator_"
   ]
  },
  {
   "cell_type": "code",
   "execution_count": 29,
   "id": "f2863749",
   "metadata": {},
   "outputs": [
    {
     "name": "stdout",
     "output_type": "stream",
     "text": [
      "Test accuracy of the best model: 0.960919540229885\n"
     ]
    }
   ],
   "source": [
    "# Evaluate the model on the test set\n",
    "test_accuracy = model2.score(X_test, y_test)\n",
    "print(\"Test accuracy of the best model:\", test_accuracy)"
   ]
  },
  {
   "cell_type": "code",
   "execution_count": 30,
   "id": "2bbb69a8",
   "metadata": {},
   "outputs": [
    {
     "name": "stdout",
     "output_type": "stream",
     "text": [
      "Train Accuracy: 1.00\n",
      "Test Accuracy: 0.96\n"
     ]
    }
   ],
   "source": [
    "y_predict_train = model2.predict(X_train)\n",
    "y_predict_test = model2.predict(X_test)\n",
    "\n",
    "train_accuracy = accuracy_score(y_train, y_predict_train)\n",
    "test_accuracy = accuracy_score(y_test, y_predict_test)\n",
    "\n",
    "\n",
    "print(f\"Train Accuracy: {train_accuracy:.2f}\")\n",
    "print(f\"Test Accuracy: {test_accuracy:.2f}\")"
   ]
  },
  {
   "cell_type": "code",
   "execution_count": 31,
   "id": "63d760f1",
   "metadata": {},
   "outputs": [
    {
     "name": "stdout",
     "output_type": "stream",
     "text": [
      "Classification Report for Test Set:\n",
      "              precision    recall  f1-score   support\n",
      "\n",
      "    Politics       0.97      0.95      0.96       638\n",
      "      Sports       0.95      0.97      0.96       667\n",
      "\n",
      "    accuracy                           0.96      1305\n",
      "   macro avg       0.96      0.96      0.96      1305\n",
      "weighted avg       0.96      0.96      0.96      1305\n",
      "\n",
      "Confusion Matrix for Test Set:\n",
      "[[604  34]\n",
      " [ 17 650]]\n"
     ]
    }
   ],
   "source": [
    "# Classification Report\n",
    "print(\"Classification Report for Test Set:\")\n",
    "print(classification_report(y_test, y_predict_test))\n",
    "\n",
    "# Confusion Matrix\n",
    "print(\"Confusion Matrix for Test Set:\")\n",
    "print(confusion_matrix(y_test, y_predict_test))"
   ]
  },
  {
   "cell_type": "code",
   "execution_count": 32,
   "id": "dd4478c2",
   "metadata": {},
   "outputs": [
    {
     "data": {
      "text/plain": [
       "<Figure size 800x600 with 0 Axes>"
      ]
     },
     "metadata": {},
     "output_type": "display_data"
    },
    {
     "data": {
      "image/png": "[encoded data removed]",
      "text/plain": [
       "<Figure size 640x480 with 2 Axes>"
      ]
     },
     "metadata": {},
     "output_type": "display_data"
    }
   ],
   "source": [
    "# Plot confusion matrix for test set\n",
    "plt.figure(figsize=(8, 6))\n",
    "plot_confusion_matrix(model2, X_test, y_test, cmap=plt.cm.Blues)\n",
    "plt.title('Confusion Matrix - Test Set')\n",
    "plt.show()"
   ]
  },
  {
   "cell_type": "markdown",
   "id": "6904b6df",
   "metadata": {},
   "source": [
    "Let's try to exploit the power of ensemble learning by employing a Voting Classifier to enhance the performance  our model."
   ]
  },
  {
   "cell_type": "code",
   "execution_count": 36,
   "id": "1552c40e",
   "metadata": {},
   "outputs": [
    {
     "name": "stdout",
     "output_type": "stream",
     "text": [
      "Ensemble Model:\n",
      "Train Score: 1.00\n",
      "Test Score: 0.96\n"
     ]
    }
   ],
   "source": [
    "# Define the ensemble model with the trained models\n",
    "final_model = VotingClassifier(estimators=[('multinomial', model), ('logistic_regression', model2)], voting='hard')\n",
    "\n",
    "# Fit the ensemble model\n",
    "final_model.fit(X_train, y_train)\n",
    "\n",
    "# Calculate accuracy scores\n",
    "train_score = final_model.score(X_train, y_train)\n",
    "test_score = final_model.score(X_test, y_test)\n",
    "train_accuracy = accuracy_score(y_train, y_predict_train)\n",
    "test_accuracy = accuracy_score(y_test, y_predict_test)\n",
    "\n",
    "# Print accuracy scores\n",
    "print(\"Ensemble Model:\")\n",
    "print(f\"Train Score: {train_accuracy:.2f}\")\n",
    "print(f\"Test Score: {test_accuracy:.2f}\")"
   ]
  },
  {
   "cell_type": "code",
   "execution_count": null,
   "id": "f14acd5e",
   "metadata": {},
   "outputs": [],
   "source": []
  }
 ],
 "metadata": {
  "kernelspec": {
   "display_name": "Python 3 (ipykernel)",
   "language": "python",
   "name": "python3"
  },
  "language_info": {
   "codemirror_mode": {
    "name": "ipython",
    "version": 3
   },
   "file_extension": ".py",
   "mimetype": "text/x-python",
   "name": "python",
   "nbconvert_exporter": "python",
   "pygments_lexer": "ipython3",
   "version": "3.9.13"
  }
 },
 "nbformat": 4,
 "nbformat_minor": 5
}
